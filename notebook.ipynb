{
 "cells": [
  {
   "cell_type": "markdown",
   "metadata": {},
   "source": [
    "# Taxonomist: Application Detection through Rich Monitoring Data\n",
    "### Emre Ates<sup>1</sup>, Ozan Tuncer<sup>1</sup>, Ata Turk<sup>1</sup>, Vitus J. Leung<sup>2</sup>, Jim Brandt<sup>2</sup>, Manuel Egele<sup>1</sup>, Ayse K. Coskun<sup>1</sup>\n",
    "<sup>1</sup> Department of Electrical and Computer Engineering, Boston University\n",
    "\n",
    "<sup>2</sup> Sandia National Laboratories\n",
    "\n",
    "In the 24th International European Conference on Parallel and Distributed Computing\n",
    "\n",
    "This Jupyter notebook contains a subset of the raw data collected for the Euro-Par paper with the same title, and necessary code for generating models for detecting applications and testing these models. Our Euro-Par paper can be accessed from www.bu.edu/peaclab/publications after the camera-ready paper submission.\n",
    "\n",
    "The accompanying files are:\n",
    "* `requirements.txt`: A list of python packages required, which can be installed by the command `pip install -r requirements.txt`. Python 3 is required, and this document was created using Python 3.6.5\n",
    "* `README.pdf`: The documentation for setting up this notebook\n",
    "* `notebook.ipynb`: The interactive Jupyter Notebook\n",
    "* `notebook.html`: The static Jupyter Notebook\n",
    "* `data/`: The monitoring data collected from different applications executed on Volta.\n",
    "    - `metadata.csv`: A csv file listing each run, the IDs of the nodes where each run executed on, which application was executed with which inputs, etc.\n",
    "    - `timeseries.tar.bz2`: A bzip2 file containing the data collected from the nodes. The unpacked size is **16 GB**, so unpacking is optional for running this notebook.\n",
    "    - `features.hdf`: An [HDF5 file](https://support.hdfgroup.org/HDF5/) containing pre-calculated features. The calculation process is also included in this notebook.\n",
    "\n",
    "Things not included in this notebook are:\n",
    "* The code required for tuning the classifiers. The tuning can be performed by using `sklearn.model_selection.GridSearchCV` as the estimator for `Taxonomist`.\n",
    "* Code for generating the result for the baselines. The power metric used is `power(W)_cray_aries_r`, which is included in the data. However, generating the features for the baselines require R packages, which is difficult to set up so we excluded that part.\n",
    "\n",
    "Please refer to `README.pdf` for a full list of differences between our Euro-Par paper and the artifacts in this notebook."
   ]
  },
  {
   "cell_type": "markdown",
   "metadata": {},
   "source": [
    "## Setup of the Notebook\n",
    "The packages are imported here, as well as any constants the user of the notebook has to set."
   ]
  },
  {
   "cell_type": "code",
   "execution_count": 1,
   "metadata": {},
   "outputs": [],
   "source": [
    "# Import any packages\n",
    "from ast import literal_eval\n",
    "import multiprocessing\n",
    "import os\n",
    "from pathlib import Path\n",
    "import warnings\n",
    "\n",
    "import numpy as np\n",
    "import pandas as pd\n",
    "import matplotlib.pyplot as plt\n",
    "import scipy.stats\n",
    "from sklearn.ensemble import RandomForestClassifier\n",
    "from sklearn.exceptions import UndefinedMetricWarning\n",
    "from sklearn.metrics import precision_recall_fscore_support\n",
    "from sklearn.metrics import f1_score\n",
    "from sklearn.model_selection import StratifiedKFold\n",
    "from tqdm import tqdm_notebook as tqdm\n",
    "from tqdm import TqdmSynchronisationWarning\n",
    "\n",
    "import taxonomist\n",
    "\n",
    "warnings.filterwarnings(\"ignore\", category=TqdmSynchronisationWarning)\n",
    "warnings.filterwarnings(\"ignore\", category=UndefinedMetricWarning)"
   ]
  },
  {
   "cell_type": "code",
   "execution_count": 2,
   "metadata": {},
   "outputs": [],
   "source": [
    "# Constants used\n",
    "# The path that the package is extracted to\n",
    "DATA_DIR = Path('./data').expanduser().absolute()\n",
    "# The number of processes to use for parallel parts\n",
    "N_JOBS = multiprocessing.cpu_count()\n",
    "# The base estimator for taxonomist. Can be anything that implements\n",
    "# A `fit` and `predict_proba` or `decision_function` method.\n",
    "BASE_ESTIMATOR = RandomForestClassifier(n_estimators=200)\n",
    "# Whether to use the pre-generated features or generate new ones\n",
    "GENERATE_FEATURES = False\n",
    "# Whether to unpack the timeseries and plot them or not\n",
    "UNPACK_TIMESERIES = False \n",
    "# The (name, function) tuples for the features used. These are\n",
    "# what are used for the paper, but new features can be added.\n",
    "FEATURE_TUPLES = [\n",
    "    ('max', np.max),\n",
    "    ('min', np.min),\n",
    "    ('mean', np.mean),\n",
    "    ('std', np.std),\n",
    "    ('skew', scipy.stats.skew),\n",
    "    ('kurt', scipy.stats.kurtosis),\n",
    "    ('perc05', lambda x: np.percentile(x, 5)),\n",
    "    ('perc25', lambda x: np.percentile(x, 25)),\n",
    "    ('perc50', lambda x: np.percentile(x, 50)),\n",
    "    ('perc75', lambda x: np.percentile(x, 75)),\n",
    "    ('perc95', lambda x: np.percentile(x, 95))\n",
    "]\n",
    "# The default figure size\n",
    "plt.rcParams['figure.figsize'] = [10, 5]\n",
    "# Turn on grid for figures\n",
    "plt.rcParams['axes.grid'] = True"
   ]
  },
  {
   "cell_type": "code",
   "execution_count": 3,
   "metadata": {},
   "outputs": [],
   "source": [
    "# Helper Functions\n",
    "def report_results(test_labels, predictions):\n",
    "    print(\"Precision: {0:.3f}, Recall: {1:.3f}, F-Score: {2:.3f}\".format(\n",
    "        *precision_recall_fscore_support(test_labels, predictions, \n",
    "                                         average='weighted')))"
   ]
  },
  {
   "cell_type": "markdown",
   "metadata": {},
   "source": [
    "## Overview of the Data\n",
    "\n",
    "The `metadata` file contains metadata about each application run included in this artifact."
   ]
  },
  {
   "cell_type": "code",
   "execution_count": 4,
   "metadata": {},
   "outputs": [
    {
     "data": {
      "text/html": [
       "<div>\n",
       "<style scoped>\n",
       "    .dataframe tbody tr th:only-of-type {\n",
       "        vertical-align: middle;\n",
       "    }\n",
       "\n",
       "    .dataframe tbody tr th {\n",
       "        vertical-align: top;\n",
       "    }\n",
       "\n",
       "    .dataframe thead th {\n",
       "        text-align: right;\n",
       "    }\n",
       "</style>\n",
       "<table border=\"1\" class=\"dataframe\">\n",
       "  <thead>\n",
       "    <tr style=\"text-align: right;\">\n",
       "      <th></th>\n",
       "      <th>platform</th>\n",
       "      <th>app</th>\n",
       "      <th>input</th>\n",
       "      <th>node_ids</th>\n",
       "      <th>start_time</th>\n",
       "      <th>end_time</th>\n",
       "      <th>unwanted</th>\n",
       "      <th>duration</th>\n",
       "    </tr>\n",
       "    <tr>\n",
       "      <th>run_id</th>\n",
       "      <th></th>\n",
       "      <th></th>\n",
       "      <th></th>\n",
       "      <th></th>\n",
       "      <th></th>\n",
       "      <th></th>\n",
       "      <th></th>\n",
       "      <th></th>\n",
       "    </tr>\n",
       "  </thead>\n",
       "  <tbody>\n",
       "    <tr>\n",
       "      <th>59e5012b57f3f44ead63f567</th>\n",
       "      <td>volta</td>\n",
       "      <td>ft</td>\n",
       "      <td>Y</td>\n",
       "      <td>[59e5012b57f3f44ead63f563, 59e5012b57f3f44ead6...</td>\n",
       "      <td>1507373566</td>\n",
       "      <td>1507374450</td>\n",
       "      <td>0.0</td>\n",
       "      <td>884</td>\n",
       "    </tr>\n",
       "    <tr>\n",
       "      <th>59e5012b57f3f44ead63f56c</th>\n",
       "      <td>volta</td>\n",
       "      <td>ft</td>\n",
       "      <td>Y</td>\n",
       "      <td>[59e5012b57f3f44ead63f568, 59e5012b57f3f44ead6...</td>\n",
       "      <td>1507374465</td>\n",
       "      <td>1507375341</td>\n",
       "      <td>0.0</td>\n",
       "      <td>876</td>\n",
       "    </tr>\n",
       "    <tr>\n",
       "      <th>59e5012c57f3f44ead63f571</th>\n",
       "      <td>volta</td>\n",
       "      <td>ft</td>\n",
       "      <td>Y</td>\n",
       "      <td>[59e5012c57f3f44ead63f56d, 59e5012c57f3f44ead6...</td>\n",
       "      <td>1506904997</td>\n",
       "      <td>1506905863</td>\n",
       "      <td>0.0</td>\n",
       "      <td>866</td>\n",
       "    </tr>\n",
       "    <tr>\n",
       "      <th>59e5012d57f3f44ead63f576</th>\n",
       "      <td>volta</td>\n",
       "      <td>ft</td>\n",
       "      <td>Y</td>\n",
       "      <td>[59e5012c57f3f44ead63f572, 59e5012c57f3f44ead6...</td>\n",
       "      <td>1506797409</td>\n",
       "      <td>1506798296</td>\n",
       "      <td>0.0</td>\n",
       "      <td>887</td>\n",
       "    </tr>\n",
       "    <tr>\n",
       "      <th>59e5012d57f3f44ead63f57b</th>\n",
       "      <td>volta</td>\n",
       "      <td>ft</td>\n",
       "      <td>Y</td>\n",
       "      <td>[59e5012d57f3f44ead63f577, 59e5012d57f3f44ead6...</td>\n",
       "      <td>1506904157</td>\n",
       "      <td>1506905026</td>\n",
       "      <td>0.0</td>\n",
       "      <td>869</td>\n",
       "    </tr>\n",
       "  </tbody>\n",
       "</table>\n",
       "</div>"
      ],
      "text/plain": [
       "                         platform app input  \\\n",
       "run_id                                        \n",
       "59e5012b57f3f44ead63f567    volta  ft     Y   \n",
       "59e5012b57f3f44ead63f56c    volta  ft     Y   \n",
       "59e5012c57f3f44ead63f571    volta  ft     Y   \n",
       "59e5012d57f3f44ead63f576    volta  ft     Y   \n",
       "59e5012d57f3f44ead63f57b    volta  ft     Y   \n",
       "\n",
       "                                                                   node_ids  \\\n",
       "run_id                                                                        \n",
       "59e5012b57f3f44ead63f567  [59e5012b57f3f44ead63f563, 59e5012b57f3f44ead6...   \n",
       "59e5012b57f3f44ead63f56c  [59e5012b57f3f44ead63f568, 59e5012b57f3f44ead6...   \n",
       "59e5012c57f3f44ead63f571  [59e5012c57f3f44ead63f56d, 59e5012c57f3f44ead6...   \n",
       "59e5012d57f3f44ead63f576  [59e5012c57f3f44ead63f572, 59e5012c57f3f44ead6...   \n",
       "59e5012d57f3f44ead63f57b  [59e5012d57f3f44ead63f577, 59e5012d57f3f44ead6...   \n",
       "\n",
       "                          start_time    end_time  unwanted  duration  \n",
       "run_id                                                                \n",
       "59e5012b57f3f44ead63f567  1507373566  1507374450       0.0       884  \n",
       "59e5012b57f3f44ead63f56c  1507374465  1507375341       0.0       876  \n",
       "59e5012c57f3f44ead63f571  1506904997  1506905863       0.0       866  \n",
       "59e5012d57f3f44ead63f576  1506797409  1506798296       0.0       887  \n",
       "59e5012d57f3f44ead63f57b  1506904157  1506905026       0.0       869  "
      ]
     },
     "execution_count": 4,
     "metadata": {},
     "output_type": "execute_result"
    }
   ],
   "source": [
    "metadata = pd.read_csv(DATA_DIR / 'metadata.csv', index_col=0)\n",
    "metadata['node_ids'] = metadata['node_ids'].apply(literal_eval)\n",
    "metadata.head()"
   ]
  },
  {
   "cell_type": "code",
   "execution_count": 5,
   "metadata": {},
   "outputs": [],
   "source": [
    "if UNPACK_TIMESERIES:\n",
    "    if not (DATA_DIR / 'timeseries').exists():\n",
    "        os.system('cd {}; tar xf {}'.format(DATA_DIR, DATA_DIR / 'timeseries.tar.bz2'))"
   ]
  },
  {
   "cell_type": "markdown",
   "metadata": {},
   "source": [
    "The HDF files contain the timeseries for each of the runs. We can look at the first node of the application `FT` with the `X` input as an example. We periodically collect 563 metrics from each node. The metrics have the source of the metric as part of the name (e.g., `metric_set_nic`, `procstat`, etc.)"
   ]
  },
  {
   "cell_type": "code",
   "execution_count": 6,
   "metadata": {},
   "outputs": [
    {
     "data": {
      "text/html": [
       "<div>\n",
       "<style scoped>\n",
       "    .dataframe tbody tr th:only-of-type {\n",
       "        vertical-align: middle;\n",
       "    }\n",
       "\n",
       "    .dataframe tbody tr th {\n",
       "        vertical-align: top;\n",
       "    }\n",
       "\n",
       "    .dataframe thead th {\n",
       "        text-align: right;\n",
       "    }\n",
       "</style>\n",
       "<table border=\"1\" class=\"dataframe\">\n",
       "  <thead>\n",
       "    <tr style=\"text-align: right;\">\n",
       "      <th></th>\n",
       "      <th>AR_NIC_NETMON_ORB_EVENT_CNTR_REQ_FLITS_metric_set_nic</th>\n",
       "      <th>AR_NIC_NETMON_ORB_EVENT_CNTR_REQ_PKTS_metric_set_nic</th>\n",
       "      <th>AR_NIC_NETMON_ORB_EVENT_CNTR_REQ_STALLED_metric_set_nic</th>\n",
       "      <th>AR_NIC_RSPMON_PARB_EVENT_CNTR_AMO_BLOCKED_metric_set_nic</th>\n",
       "      <th>AR_NIC_RSPMON_PARB_EVENT_CNTR_AMO_FLITS_metric_set_nic</th>\n",
       "      <th>AR_NIC_RSPMON_PARB_EVENT_CNTR_AMO_PKTS_metric_set_nic</th>\n",
       "      <th>AR_NIC_RSPMON_PARB_EVENT_CNTR_BTE_RD_BLOCKED_metric_set_nic</th>\n",
       "      <th>AR_NIC_RSPMON_PARB_EVENT_CNTR_BTE_RD_FLITS_metric_set_nic</th>\n",
       "      <th>AR_NIC_RSPMON_PARB_EVENT_CNTR_BTE_RD_PKTS_metric_set_nic</th>\n",
       "      <th>AR_NIC_RSPMON_PARB_EVENT_CNTR_IOMMU_BLOCKED_metric_set_nic</th>\n",
       "      <th>...</th>\n",
       "      <th>procs_running_procstat</th>\n",
       "      <th>slabs_scanned_vmstat</th>\n",
       "      <th>softirq_count_procstat</th>\n",
       "      <th>softirq_procstat</th>\n",
       "      <th>sys_procstat</th>\n",
       "      <th>unevictable_pgs_culled_vmstat</th>\n",
       "      <th>unevictable_pgs_mlocked_vmstat</th>\n",
       "      <th>unevictable_pgs_munlocked_vmstat</th>\n",
       "      <th>unevictable_pgs_rescued_vmstat</th>\n",
       "      <th>user_procstat</th>\n",
       "    </tr>\n",
       "    <tr>\n",
       "      <th>#Time</th>\n",
       "      <th></th>\n",
       "      <th></th>\n",
       "      <th></th>\n",
       "      <th></th>\n",
       "      <th></th>\n",
       "      <th></th>\n",
       "      <th></th>\n",
       "      <th></th>\n",
       "      <th></th>\n",
       "      <th></th>\n",
       "      <th></th>\n",
       "      <th></th>\n",
       "      <th></th>\n",
       "      <th></th>\n",
       "      <th></th>\n",
       "      <th></th>\n",
       "      <th></th>\n",
       "      <th></th>\n",
       "      <th></th>\n",
       "      <th></th>\n",
       "      <th></th>\n",
       "    </tr>\n",
       "  </thead>\n",
       "  <tbody>\n",
       "    <tr>\n",
       "      <th>1507387966</th>\n",
       "      <td>0</td>\n",
       "      <td>0</td>\n",
       "      <td>0</td>\n",
       "      <td>0</td>\n",
       "      <td>159</td>\n",
       "      <td>159</td>\n",
       "      <td>0</td>\n",
       "      <td>0</td>\n",
       "      <td>0</td>\n",
       "      <td>0</td>\n",
       "      <td>...</td>\n",
       "      <td>1</td>\n",
       "      <td>0</td>\n",
       "      <td>22690</td>\n",
       "      <td>0</td>\n",
       "      <td>0</td>\n",
       "      <td>0</td>\n",
       "      <td>0</td>\n",
       "      <td>0</td>\n",
       "      <td>0</td>\n",
       "      <td>0</td>\n",
       "    </tr>\n",
       "    <tr>\n",
       "      <th>1507387967</th>\n",
       "      <td>9</td>\n",
       "      <td>3</td>\n",
       "      <td>0</td>\n",
       "      <td>0</td>\n",
       "      <td>159</td>\n",
       "      <td>159</td>\n",
       "      <td>0</td>\n",
       "      <td>2</td>\n",
       "      <td>2</td>\n",
       "      <td>0</td>\n",
       "      <td>...</td>\n",
       "      <td>1</td>\n",
       "      <td>0</td>\n",
       "      <td>22625</td>\n",
       "      <td>0</td>\n",
       "      <td>0</td>\n",
       "      <td>0</td>\n",
       "      <td>0</td>\n",
       "      <td>0</td>\n",
       "      <td>0</td>\n",
       "      <td>0</td>\n",
       "    </tr>\n",
       "    <tr>\n",
       "      <th>1507387968</th>\n",
       "      <td>0</td>\n",
       "      <td>0</td>\n",
       "      <td>0</td>\n",
       "      <td>0</td>\n",
       "      <td>159</td>\n",
       "      <td>159</td>\n",
       "      <td>0</td>\n",
       "      <td>0</td>\n",
       "      <td>0</td>\n",
       "      <td>0</td>\n",
       "      <td>...</td>\n",
       "      <td>1</td>\n",
       "      <td>0</td>\n",
       "      <td>22675</td>\n",
       "      <td>0</td>\n",
       "      <td>2</td>\n",
       "      <td>0</td>\n",
       "      <td>0</td>\n",
       "      <td>0</td>\n",
       "      <td>0</td>\n",
       "      <td>0</td>\n",
       "    </tr>\n",
       "    <tr>\n",
       "      <th>1507387969</th>\n",
       "      <td>0</td>\n",
       "      <td>0</td>\n",
       "      <td>0</td>\n",
       "      <td>0</td>\n",
       "      <td>159</td>\n",
       "      <td>159</td>\n",
       "      <td>0</td>\n",
       "      <td>0</td>\n",
       "      <td>0</td>\n",
       "      <td>0</td>\n",
       "      <td>...</td>\n",
       "      <td>1</td>\n",
       "      <td>0</td>\n",
       "      <td>22458</td>\n",
       "      <td>1</td>\n",
       "      <td>0</td>\n",
       "      <td>0</td>\n",
       "      <td>0</td>\n",
       "      <td>0</td>\n",
       "      <td>0</td>\n",
       "      <td>0</td>\n",
       "    </tr>\n",
       "    <tr>\n",
       "      <th>1507387970</th>\n",
       "      <td>0</td>\n",
       "      <td>0</td>\n",
       "      <td>0</td>\n",
       "      <td>0</td>\n",
       "      <td>159</td>\n",
       "      <td>159</td>\n",
       "      <td>0</td>\n",
       "      <td>0</td>\n",
       "      <td>0</td>\n",
       "      <td>0</td>\n",
       "      <td>...</td>\n",
       "      <td>1</td>\n",
       "      <td>0</td>\n",
       "      <td>22641</td>\n",
       "      <td>0</td>\n",
       "      <td>1</td>\n",
       "      <td>0</td>\n",
       "      <td>0</td>\n",
       "      <td>0</td>\n",
       "      <td>0</td>\n",
       "      <td>0</td>\n",
       "    </tr>\n",
       "  </tbody>\n",
       "</table>\n",
       "<p>5 rows × 563 columns</p>\n",
       "</div>"
      ],
      "text/plain": [
       "            AR_NIC_NETMON_ORB_EVENT_CNTR_REQ_FLITS_metric_set_nic  \\\n",
       "#Time                                                               \n",
       "1507387966                                                  0       \n",
       "1507387967                                                  9       \n",
       "1507387968                                                  0       \n",
       "1507387969                                                  0       \n",
       "1507387970                                                  0       \n",
       "\n",
       "            AR_NIC_NETMON_ORB_EVENT_CNTR_REQ_PKTS_metric_set_nic  \\\n",
       "#Time                                                              \n",
       "1507387966                                                  0      \n",
       "1507387967                                                  3      \n",
       "1507387968                                                  0      \n",
       "1507387969                                                  0      \n",
       "1507387970                                                  0      \n",
       "\n",
       "            AR_NIC_NETMON_ORB_EVENT_CNTR_REQ_STALLED_metric_set_nic  \\\n",
       "#Time                                                                 \n",
       "1507387966                                                  0         \n",
       "1507387967                                                  0         \n",
       "1507387968                                                  0         \n",
       "1507387969                                                  0         \n",
       "1507387970                                                  0         \n",
       "\n",
       "            AR_NIC_RSPMON_PARB_EVENT_CNTR_AMO_BLOCKED_metric_set_nic  \\\n",
       "#Time                                                                  \n",
       "1507387966                                                  0          \n",
       "1507387967                                                  0          \n",
       "1507387968                                                  0          \n",
       "1507387969                                                  0          \n",
       "1507387970                                                  0          \n",
       "\n",
       "            AR_NIC_RSPMON_PARB_EVENT_CNTR_AMO_FLITS_metric_set_nic  \\\n",
       "#Time                                                                \n",
       "1507387966                                                159        \n",
       "1507387967                                                159        \n",
       "1507387968                                                159        \n",
       "1507387969                                                159        \n",
       "1507387970                                                159        \n",
       "\n",
       "            AR_NIC_RSPMON_PARB_EVENT_CNTR_AMO_PKTS_metric_set_nic  \\\n",
       "#Time                                                               \n",
       "1507387966                                                159       \n",
       "1507387967                                                159       \n",
       "1507387968                                                159       \n",
       "1507387969                                                159       \n",
       "1507387970                                                159       \n",
       "\n",
       "            AR_NIC_RSPMON_PARB_EVENT_CNTR_BTE_RD_BLOCKED_metric_set_nic  \\\n",
       "#Time                                                                     \n",
       "1507387966                                                  0             \n",
       "1507387967                                                  0             \n",
       "1507387968                                                  0             \n",
       "1507387969                                                  0             \n",
       "1507387970                                                  0             \n",
       "\n",
       "            AR_NIC_RSPMON_PARB_EVENT_CNTR_BTE_RD_FLITS_metric_set_nic  \\\n",
       "#Time                                                                   \n",
       "1507387966                                                  0           \n",
       "1507387967                                                  2           \n",
       "1507387968                                                  0           \n",
       "1507387969                                                  0           \n",
       "1507387970                                                  0           \n",
       "\n",
       "            AR_NIC_RSPMON_PARB_EVENT_CNTR_BTE_RD_PKTS_metric_set_nic  \\\n",
       "#Time                                                                  \n",
       "1507387966                                                  0          \n",
       "1507387967                                                  2          \n",
       "1507387968                                                  0          \n",
       "1507387969                                                  0          \n",
       "1507387970                                                  0          \n",
       "\n",
       "            AR_NIC_RSPMON_PARB_EVENT_CNTR_IOMMU_BLOCKED_metric_set_nic  \\\n",
       "#Time                                                                    \n",
       "1507387966                                                  0            \n",
       "1507387967                                                  0            \n",
       "1507387968                                                  0            \n",
       "1507387969                                                  0            \n",
       "1507387970                                                  0            \n",
       "\n",
       "                ...        procs_running_procstat  slabs_scanned_vmstat  \\\n",
       "#Time           ...                                                       \n",
       "1507387966      ...                             1                     0   \n",
       "1507387967      ...                             1                     0   \n",
       "1507387968      ...                             1                     0   \n",
       "1507387969      ...                             1                     0   \n",
       "1507387970      ...                             1                     0   \n",
       "\n",
       "            softirq_count_procstat  softirq_procstat  sys_procstat  \\\n",
       "#Time                                                                \n",
       "1507387966                   22690                 0             0   \n",
       "1507387967                   22625                 0             0   \n",
       "1507387968                   22675                 0             2   \n",
       "1507387969                   22458                 1             0   \n",
       "1507387970                   22641                 0             1   \n",
       "\n",
       "            unevictable_pgs_culled_vmstat  unevictable_pgs_mlocked_vmstat  \\\n",
       "#Time                                                                       \n",
       "1507387966                              0                               0   \n",
       "1507387967                              0                               0   \n",
       "1507387968                              0                               0   \n",
       "1507387969                              0                               0   \n",
       "1507387970                              0                               0   \n",
       "\n",
       "            unevictable_pgs_munlocked_vmstat  unevictable_pgs_rescued_vmstat  \\\n",
       "#Time                                                                          \n",
       "1507387966                                 0                               0   \n",
       "1507387967                                 0                               0   \n",
       "1507387968                                 0                               0   \n",
       "1507387969                                 0                               0   \n",
       "1507387970                                 0                               0   \n",
       "\n",
       "            user_procstat  \n",
       "#Time                      \n",
       "1507387966              0  \n",
       "1507387967              0  \n",
       "1507387968              0  \n",
       "1507387969              0  \n",
       "1507387970              0  \n",
       "\n",
       "[5 rows x 563 columns]"
      ]
     },
     "execution_count": 6,
     "metadata": {},
     "output_type": "execute_result"
    }
   ],
   "source": [
    "example_node_id = metadata[(metadata['app'] == 'ft') & \n",
    "                           (metadata['input'] == 'Y')].iloc[0]['node_ids'][0]\n",
    "example_timeseries = pd.read_hdf(\n",
    "    DATA_DIR / 'timeseries' / (example_node_id + '.hdf'))\n",
    "example_timeseries.head()"
   ]
  },
  {
   "cell_type": "markdown",
   "metadata": {},
   "source": [
    "We plot the CPU time spent in user mode as an example."
   ]
  },
  {
   "cell_type": "code",
   "execution_count": 7,
   "metadata": {},
   "outputs": [
    {
     "data": {
      "image/png": "[encoded data removed]",
      "text/plain": [
       "<Figure size 720x360 with 1 Axes>"
      ]
     },
     "metadata": {},
     "output_type": "display_data"
    }
   ],
   "source": [
    "plt.plot(example_timeseries.index, example_timeseries['user_procstat'])\n",
    "plt.xlabel('UNIX Timestamp')\n",
    "plt.ylabel('User time')\n",
    "plt.show()"
   ]
  },
  {
   "cell_type": "markdown",
   "metadata": {},
   "source": [
    "## Feature Generation\n",
    "We use the `FEATURE_TUPLES` to define which features are going to be generated. The feature generation might take a long time (half an hour when the notebook is executed using 12 threads). The results are already included as `features.hdf`, so unless `GENERATE_FEATURES` is set, we are not generating the features here."
   ]
  },
  {
   "cell_type": "code",
   "execution_count": 8,
   "metadata": {},
   "outputs": [],
   "source": [
    "all_node_ids = [node_id for node_ids in metadata['node_ids'] \n",
    "                for node_id in node_ids]"
   ]
  },
  {
   "cell_type": "code",
   "execution_count": 9,
   "metadata": {},
   "outputs": [],
   "source": [
    "def cache_features(node_id):\n",
    "    \"\"\"Generates the features for the given node ids, and stores them\"\"\"\n",
    "    timeseries = pd.read_hdf(DATA_DIR / 'timeseries' / (node_id + '.hdf'))\n",
    "    return taxonomist.generate_features(timeseries, FEATURE_TUPLES)"
   ]
  },
  {
   "cell_type": "code",
   "execution_count": 10,
   "metadata": {},
   "outputs": [],
   "source": [
    "if GENERATE_FEATURES:\n",
    "    with multiprocessing.Pool(N_JOBS) as p:\n",
    "        # Warning: The errors are not raised within Jupyter Notebook, so if\n",
    "        # there seems to be no progress, try running this code in the python \n",
    "        # REPL to see if there are any errors.\n",
    "        feature_list = list(tqdm(p.imap(cache_features, all_node_ids), \n",
    "                                 total=len(all_node_ids)))\n",
    "    features = pd.concat(feature_list)\n",
    "    features.index = all_node_ids\n",
    "    features.to_hdf(DATA_DIR / 'features.hdf', 'features')"
   ]
  },
  {
   "cell_type": "code",
   "execution_count": 11,
   "metadata": {},
   "outputs": [
    {
     "data": {
      "text/html": [
       "<div>\n",
       "<style scoped>\n",
       "    .dataframe tbody tr th:only-of-type {\n",
       "        vertical-align: middle;\n",
       "    }\n",
       "\n",
       "    .dataframe tbody tr th {\n",
       "        vertical-align: top;\n",
       "    }\n",
       "\n",
       "    .dataframe thead th {\n",
       "        text-align: right;\n",
       "    }\n",
       "</style>\n",
       "<table border=\"1\" class=\"dataframe\">\n",
       "  <thead>\n",
       "    <tr style=\"text-align: right;\">\n",
       "      <th></th>\n",
       "      <th>max_AR_NIC_NETMON_ORB_EVENT_CNTR_REQ_FLITS_metric_set_nic</th>\n",
       "      <th>min_AR_NIC_NETMON_ORB_EVENT_CNTR_REQ_FLITS_metric_set_nic</th>\n",
       "      <th>mean_AR_NIC_NETMON_ORB_EVENT_CNTR_REQ_FLITS_metric_set_nic</th>\n",
       "      <th>std_AR_NIC_NETMON_ORB_EVENT_CNTR_REQ_FLITS_metric_set_nic</th>\n",
       "      <th>skew_AR_NIC_NETMON_ORB_EVENT_CNTR_REQ_FLITS_metric_set_nic</th>\n",
       "      <th>kurt_AR_NIC_NETMON_ORB_EVENT_CNTR_REQ_FLITS_metric_set_nic</th>\n",
       "      <th>perc05_AR_NIC_NETMON_ORB_EVENT_CNTR_REQ_FLITS_metric_set_nic</th>\n",
       "      <th>perc25_AR_NIC_NETMON_ORB_EVENT_CNTR_REQ_FLITS_metric_set_nic</th>\n",
       "      <th>perc50_AR_NIC_NETMON_ORB_EVENT_CNTR_REQ_FLITS_metric_set_nic</th>\n",
       "      <th>perc75_AR_NIC_NETMON_ORB_EVENT_CNTR_REQ_FLITS_metric_set_nic</th>\n",
       "      <th>...</th>\n",
       "      <th>min_user_procstat</th>\n",
       "      <th>mean_user_procstat</th>\n",
       "      <th>std_user_procstat</th>\n",
       "      <th>skew_user_procstat</th>\n",
       "      <th>kurt_user_procstat</th>\n",
       "      <th>perc05_user_procstat</th>\n",
       "      <th>perc25_user_procstat</th>\n",
       "      <th>perc50_user_procstat</th>\n",
       "      <th>perc75_user_procstat</th>\n",
       "      <th>perc95_user_procstat</th>\n",
       "    </tr>\n",
       "  </thead>\n",
       "  <tbody>\n",
       "    <tr>\n",
       "      <th>59e5012b57f3f44ead63f563</th>\n",
       "      <td>251708171</td>\n",
       "      <td>0</td>\n",
       "      <td>8.488983e+07</td>\n",
       "      <td>9.734840e+07</td>\n",
       "      <td>0.633594</td>\n",
       "      <td>-1.215991</td>\n",
       "      <td>0.0</td>\n",
       "      <td>47.0</td>\n",
       "      <td>31054906.0</td>\n",
       "      <td>175712369.0</td>\n",
       "      <td>...</td>\n",
       "      <td>3167</td>\n",
       "      <td>3197.250980</td>\n",
       "      <td>9.724157</td>\n",
       "      <td>-0.062776</td>\n",
       "      <td>0.334579</td>\n",
       "      <td>3182.2</td>\n",
       "      <td>3191.0</td>\n",
       "      <td>3198.0</td>\n",
       "      <td>3203.0</td>\n",
       "      <td>3214.0</td>\n",
       "    </tr>\n",
       "    <tr>\n",
       "      <th>59e5012b57f3f44ead63f564</th>\n",
       "      <td>251707494</td>\n",
       "      <td>0</td>\n",
       "      <td>8.488958e+07</td>\n",
       "      <td>9.247342e+07</td>\n",
       "      <td>0.595364</td>\n",
       "      <td>-1.207735</td>\n",
       "      <td>0.0</td>\n",
       "      <td>8.0</td>\n",
       "      <td>46449508.0</td>\n",
       "      <td>173588664.0</td>\n",
       "      <td>...</td>\n",
       "      <td>3167</td>\n",
       "      <td>3197.156863</td>\n",
       "      <td>10.912796</td>\n",
       "      <td>-0.042226</td>\n",
       "      <td>-0.226500</td>\n",
       "      <td>3180.0</td>\n",
       "      <td>3189.0</td>\n",
       "      <td>3199.0</td>\n",
       "      <td>3205.0</td>\n",
       "      <td>3215.0</td>\n",
       "    </tr>\n",
       "    <tr>\n",
       "      <th>59e5012b57f3f44ead63f565</th>\n",
       "      <td>251707555</td>\n",
       "      <td>0</td>\n",
       "      <td>8.488960e+07</td>\n",
       "      <td>9.244100e+07</td>\n",
       "      <td>0.595058</td>\n",
       "      <td>-1.207605</td>\n",
       "      <td>0.0</td>\n",
       "      <td>10.0</td>\n",
       "      <td>47638390.0</td>\n",
       "      <td>172981795.0</td>\n",
       "      <td>...</td>\n",
       "      <td>3168</td>\n",
       "      <td>3196.980392</td>\n",
       "      <td>9.004916</td>\n",
       "      <td>-0.030884</td>\n",
       "      <td>0.830260</td>\n",
       "      <td>3179.2</td>\n",
       "      <td>3193.0</td>\n",
       "      <td>3197.0</td>\n",
       "      <td>3201.0</td>\n",
       "      <td>3214.0</td>\n",
       "    </tr>\n",
       "    <tr>\n",
       "      <th>59e5012b57f3f44ead63f566</th>\n",
       "      <td>251707494</td>\n",
       "      <td>0</td>\n",
       "      <td>8.488958e+07</td>\n",
       "      <td>1.045421e+08</td>\n",
       "      <td>0.667807</td>\n",
       "      <td>-1.315681</td>\n",
       "      <td>0.0</td>\n",
       "      <td>8.0</td>\n",
       "      <td>76.0</td>\n",
       "      <td>198788583.0</td>\n",
       "      <td>...</td>\n",
       "      <td>3174</td>\n",
       "      <td>3197.345098</td>\n",
       "      <td>7.810576</td>\n",
       "      <td>-0.027800</td>\n",
       "      <td>0.599669</td>\n",
       "      <td>3184.2</td>\n",
       "      <td>3193.0</td>\n",
       "      <td>3199.0</td>\n",
       "      <td>3200.0</td>\n",
       "      <td>3212.0</td>\n",
       "    </tr>\n",
       "    <tr>\n",
       "      <th>59e5012b57f3f44ead63f568</th>\n",
       "      <td>251708171</td>\n",
       "      <td>0</td>\n",
       "      <td>8.578694e+07</td>\n",
       "      <td>9.444057e+07</td>\n",
       "      <td>0.595700</td>\n",
       "      <td>-1.219924</td>\n",
       "      <td>0.0</td>\n",
       "      <td>47.0</td>\n",
       "      <td>45645214.0</td>\n",
       "      <td>171000617.0</td>\n",
       "      <td>...</td>\n",
       "      <td>3166</td>\n",
       "      <td>3197.034346</td>\n",
       "      <td>8.536433</td>\n",
       "      <td>0.119504</td>\n",
       "      <td>0.763120</td>\n",
       "      <td>3183.8</td>\n",
       "      <td>3192.0</td>\n",
       "      <td>3197.0</td>\n",
       "      <td>3201.0</td>\n",
       "      <td>3212.0</td>\n",
       "    </tr>\n",
       "  </tbody>\n",
       "</table>\n",
       "<p>5 rows × 6193 columns</p>\n",
       "</div>"
      ],
      "text/plain": [
       "                          max_AR_NIC_NETMON_ORB_EVENT_CNTR_REQ_FLITS_metric_set_nic  \\\n",
       "59e5012b57f3f44ead63f563                                          251708171           \n",
       "59e5012b57f3f44ead63f564                                          251707494           \n",
       "59e5012b57f3f44ead63f565                                          251707555           \n",
       "59e5012b57f3f44ead63f566                                          251707494           \n",
       "59e5012b57f3f44ead63f568                                          251708171           \n",
       "\n",
       "                          min_AR_NIC_NETMON_ORB_EVENT_CNTR_REQ_FLITS_metric_set_nic  \\\n",
       "59e5012b57f3f44ead63f563                                                  0           \n",
       "59e5012b57f3f44ead63f564                                                  0           \n",
       "59e5012b57f3f44ead63f565                                                  0           \n",
       "59e5012b57f3f44ead63f566                                                  0           \n",
       "59e5012b57f3f44ead63f568                                                  0           \n",
       "\n",
       "                          mean_AR_NIC_NETMON_ORB_EVENT_CNTR_REQ_FLITS_metric_set_nic  \\\n",
       "59e5012b57f3f44ead63f563                                       8.488983e+07            \n",
       "59e5012b57f3f44ead63f564                                       8.488958e+07            \n",
       "59e5012b57f3f44ead63f565                                       8.488960e+07            \n",
       "59e5012b57f3f44ead63f566                                       8.488958e+07            \n",
       "59e5012b57f3f44ead63f568                                       8.578694e+07            \n",
       "\n",
       "                          std_AR_NIC_NETMON_ORB_EVENT_CNTR_REQ_FLITS_metric_set_nic  \\\n",
       "59e5012b57f3f44ead63f563                                       9.734840e+07           \n",
       "59e5012b57f3f44ead63f564                                       9.247342e+07           \n",
       "59e5012b57f3f44ead63f565                                       9.244100e+07           \n",
       "59e5012b57f3f44ead63f566                                       1.045421e+08           \n",
       "59e5012b57f3f44ead63f568                                       9.444057e+07           \n",
       "\n",
       "                          skew_AR_NIC_NETMON_ORB_EVENT_CNTR_REQ_FLITS_metric_set_nic  \\\n",
       "59e5012b57f3f44ead63f563                                           0.633594            \n",
       "59e5012b57f3f44ead63f564                                           0.595364            \n",
       "59e5012b57f3f44ead63f565                                           0.595058            \n",
       "59e5012b57f3f44ead63f566                                           0.667807            \n",
       "59e5012b57f3f44ead63f568                                           0.595700            \n",
       "\n",
       "                          kurt_AR_NIC_NETMON_ORB_EVENT_CNTR_REQ_FLITS_metric_set_nic  \\\n",
       "59e5012b57f3f44ead63f563                                          -1.215991            \n",
       "59e5012b57f3f44ead63f564                                          -1.207735            \n",
       "59e5012b57f3f44ead63f565                                          -1.207605            \n",
       "59e5012b57f3f44ead63f566                                          -1.315681            \n",
       "59e5012b57f3f44ead63f568                                          -1.219924            \n",
       "\n",
       "                          perc05_AR_NIC_NETMON_ORB_EVENT_CNTR_REQ_FLITS_metric_set_nic  \\\n",
       "59e5012b57f3f44ead63f563                                                0.0              \n",
       "59e5012b57f3f44ead63f564                                                0.0              \n",
       "59e5012b57f3f44ead63f565                                                0.0              \n",
       "59e5012b57f3f44ead63f566                                                0.0              \n",
       "59e5012b57f3f44ead63f568                                                0.0              \n",
       "\n",
       "                          perc25_AR_NIC_NETMON_ORB_EVENT_CNTR_REQ_FLITS_metric_set_nic  \\\n",
       "59e5012b57f3f44ead63f563                                               47.0              \n",
       "59e5012b57f3f44ead63f564                                                8.0              \n",
       "59e5012b57f3f44ead63f565                                               10.0              \n",
       "59e5012b57f3f44ead63f566                                                8.0              \n",
       "59e5012b57f3f44ead63f568                                               47.0              \n",
       "\n",
       "                          perc50_AR_NIC_NETMON_ORB_EVENT_CNTR_REQ_FLITS_metric_set_nic  \\\n",
       "59e5012b57f3f44ead63f563                                         31054906.0              \n",
       "59e5012b57f3f44ead63f564                                         46449508.0              \n",
       "59e5012b57f3f44ead63f565                                         47638390.0              \n",
       "59e5012b57f3f44ead63f566                                               76.0              \n",
       "59e5012b57f3f44ead63f568                                         45645214.0              \n",
       "\n",
       "                          perc75_AR_NIC_NETMON_ORB_EVENT_CNTR_REQ_FLITS_metric_set_nic  \\\n",
       "59e5012b57f3f44ead63f563                                        175712369.0              \n",
       "59e5012b57f3f44ead63f564                                        173588664.0              \n",
       "59e5012b57f3f44ead63f565                                        172981795.0              \n",
       "59e5012b57f3f44ead63f566                                        198788583.0              \n",
       "59e5012b57f3f44ead63f568                                        171000617.0              \n",
       "\n",
       "                                  ...           min_user_procstat  \\\n",
       "59e5012b57f3f44ead63f563          ...                        3167   \n",
       "59e5012b57f3f44ead63f564          ...                        3167   \n",
       "59e5012b57f3f44ead63f565          ...                        3168   \n",
       "59e5012b57f3f44ead63f566          ...                        3174   \n",
       "59e5012b57f3f44ead63f568          ...                        3166   \n",
       "\n",
       "                          mean_user_procstat  std_user_procstat  \\\n",
       "59e5012b57f3f44ead63f563         3197.250980           9.724157   \n",
       "59e5012b57f3f44ead63f564         3197.156863          10.912796   \n",
       "59e5012b57f3f44ead63f565         3196.980392           9.004916   \n",
       "59e5012b57f3f44ead63f566         3197.345098           7.810576   \n",
       "59e5012b57f3f44ead63f568         3197.034346           8.536433   \n",
       "\n",
       "                          skew_user_procstat  kurt_user_procstat  \\\n",
       "59e5012b57f3f44ead63f563           -0.062776            0.334579   \n",
       "59e5012b57f3f44ead63f564           -0.042226           -0.226500   \n",
       "59e5012b57f3f44ead63f565           -0.030884            0.830260   \n",
       "59e5012b57f3f44ead63f566           -0.027800            0.599669   \n",
       "59e5012b57f3f44ead63f568            0.119504            0.763120   \n",
       "\n",
       "                          perc05_user_procstat  perc25_user_procstat  \\\n",
       "59e5012b57f3f44ead63f563                3182.2                3191.0   \n",
       "59e5012b57f3f44ead63f564                3180.0                3189.0   \n",
       "59e5012b57f3f44ead63f565                3179.2                3193.0   \n",
       "59e5012b57f3f44ead63f566                3184.2                3193.0   \n",
       "59e5012b57f3f44ead63f568                3183.8                3192.0   \n",
       "\n",
       "                          perc50_user_procstat  perc75_user_procstat  \\\n",
       "59e5012b57f3f44ead63f563                3198.0                3203.0   \n",
       "59e5012b57f3f44ead63f564                3199.0                3205.0   \n",
       "59e5012b57f3f44ead63f565                3197.0                3201.0   \n",
       "59e5012b57f3f44ead63f566                3199.0                3200.0   \n",
       "59e5012b57f3f44ead63f568                3197.0                3201.0   \n",
       "\n",
       "                          perc95_user_procstat  \n",
       "59e5012b57f3f44ead63f563                3214.0  \n",
       "59e5012b57f3f44ead63f564                3215.0  \n",
       "59e5012b57f3f44ead63f565                3214.0  \n",
       "59e5012b57f3f44ead63f566                3212.0  \n",
       "59e5012b57f3f44ead63f568                3212.0  \n",
       "\n",
       "[5 rows x 6193 columns]"
      ]
     },
     "execution_count": 11,
     "metadata": {},
     "output_type": "execute_result"
    }
   ],
   "source": [
    "features = pd.read_hdf(DATA_DIR / 'features.hdf')\n",
    "features.index = all_node_ids\n",
    "assert set(features.index) == set(all_node_ids)\n",
    "features.head()"
   ]
  },
  {
   "cell_type": "markdown",
   "metadata": {},
   "source": [
    "## Exploration of the Features\n",
    "We re-create Figure 1 from our Euro-Par paper by using the features. For different views into the data, the features (`X_FEATURE`, `Y_FEATURE`) can be changed as well as `SAMPLE_INPUTS`."
   ]
  },
  {
   "cell_type": "code",
   "execution_count": 12,
   "metadata": {},
   "outputs": [],
   "source": [
    "Y_FEATURE = 'mean_nr_slab_unreclaimable_vmstat'\n",
    "X_FEATURE = 'perc50_nr_inactive_anon_vmstat'\n",
    "SAMPLE_INPUTS = ['X', 'Y']\n",
    "colors = ['#a6cee3','#1f78b4','#b2df8a','#33a02c','#fb9a99','#e31a1c',\n",
    "          '#fdbf6f','#ff7f00','#cab2d6','#6a3d9a','#f0f099']\n",
    "markers = ['o', '*', 'D', 'x', 'v', '>', '_', '|', '<', 's', '+']"
   ]
  },
  {
   "cell_type": "code",
   "execution_count": 13,
   "metadata": {},
   "outputs": [
    {
     "data": {
      "image/png": "[encoded data removed]",
      "text/plain": [
       "<Figure size 720x360 with 1 Axes>"
      ]
     },
     "metadata": {},
     "output_type": "display_data"
    }
   ],
   "source": [
    "for app, color, marker in zip(metadata['app'].unique(), colors, markers):\n",
    "    x_coords = []\n",
    "    y_coords = []\n",
    "    for input_set in SAMPLE_INPUTS:\n",
    "        cur_run = metadata[(metadata['app'] == app) & \n",
    "                           (metadata['input'] == input_set)].iloc[0]\n",
    "        cur_nodes = cur_run['node_ids']\n",
    "        x_coords.extend(features.loc[cur_nodes][X_FEATURE])\n",
    "        y_coords.extend(features.loc[cur_nodes][Y_FEATURE])\n",
    "    plt.scatter(x_coords, y_coords, c=color, marker=marker, label=app)\n",
    "plt.legend(loc='best', ncol=2)\n",
    "plt.xlabel(X_FEATURE)\n",
    "plt.ylabel(Y_FEATURE)\n",
    "plt.show()"
   ]
  },
  {
   "cell_type": "markdown",
   "metadata": {},
   "source": [
    "## Training the Model\n",
    "We train our model here. We first split the data into one test set with 20% of the runs, and a training set with the rest."
   ]
  },
  {
   "cell_type": "code",
   "execution_count": 14,
   "metadata": {},
   "outputs": [],
   "source": [
    "k_fold = StratifiedKFold(n_splits=5, shuffle=True, random_state=4)\n",
    "train_idx, test_idx = next(k_fold.split(metadata['node_ids'], metadata['app']))\n",
    "# StratifiedKFold only returns indices to metadata, \n",
    "# we need to convert them to node_ids\n",
    "train_nodes = [node_id for node_ids in metadata.iloc[train_idx]['node_ids'] \n",
    "               for node_id in node_ids]\n",
    "test_nodes = [node_id for node_ids in metadata.iloc[test_idx]['node_ids'] \n",
    "              for node_id in node_ids]\n",
    "# We need separate labels for each node inside an app\n",
    "train_labels = [app for app, node_ids in \n",
    "                zip(metadata.iloc[train_idx]['app'], \n",
    "                    metadata.iloc[train_idx]['node_ids']) \n",
    "                for _ in node_ids]\n",
    "test_labels = [app for app, node_ids in \n",
    "               zip(metadata.iloc[test_idx]['app'], \n",
    "                   metadata.iloc[test_idx]['node_ids']) \n",
    "               for _ in node_ids]"
   ]
  },
  {
   "cell_type": "markdown",
   "metadata": {},
   "source": [
    "We train an instance of `Taxonomist` here. It is a wrapper around a binary classifier which supports prediction probabilities. Inside, it trains one binary classifier separating each application from the rest. After applying the thresholding, any samples below the threshold are labelled as `unknown`."
   ]
  },
  {
   "cell_type": "code",
   "execution_count": 15,
   "metadata": {},
   "outputs": [],
   "source": [
    "txm = taxonomist.Taxonomist(BASE_ESTIMATOR, n_jobs=N_JOBS, threshold=0.75)\n",
    "txm.fit(features.loc[train_nodes], train_labels)"
   ]
  },
  {
   "cell_type": "code",
   "execution_count": 16,
   "metadata": {},
   "outputs": [],
   "source": [
    "preds = txm.predict(features.loc[test_nodes])"
   ]
  },
  {
   "cell_type": "code",
   "execution_count": 17,
   "metadata": {},
   "outputs": [
    {
     "name": "stdout",
     "output_type": "stream",
     "text": [
      "Precision: 1.000, Recall: 0.997, F-Score: 0.999\n"
     ]
    }
   ],
   "source": [
    "report_results(test_labels, preds)"
   ]
  },
  {
   "cell_type": "markdown",
   "metadata": {},
   "source": [
    "## Detecting Unknown Applications\n",
    "\n",
    "The following code is for re-generating Figure 5 from the paper. We remove each application from the training set, and predict the same test set. We only run this for one out of the 5 folds to shorten the computation. This step also takes a long time (45 minutes with 12 threads)"
   ]
  },
  {
   "cell_type": "code",
   "execution_count": 18,
   "metadata": {},
   "outputs": [
    {
     "data": {
      "application/vnd.jupyter.widget-view+json": {
       "model_id": "9a700fd4e9cf4fa5a85f82a5d4bac749",
       "version_major": 2,
       "version_minor": 0
      },
      "text/plain": [
       "HBox(children=(IntProgress(value=0, max=11), HTML(value='')))"
      ]
     },
     "metadata": {},
     "output_type": "display_data"
    },
    {
     "data": {
      "application/vnd.jupyter.widget-view+json": {
       "model_id": "",
       "version_major": 2,
       "version_minor": 0
      },
      "text/plain": [
       "HBox(children=(IntProgress(value=0, max=21), HTML(value='')))"
      ]
     },
     "metadata": {},
     "output_type": "display_data"
    },
    {
     "data": {
      "application/vnd.jupyter.widget-view+json": {
       "model_id": "",
       "version_major": 2,
       "version_minor": 0
      },
      "text/plain": [
       "HBox(children=(IntProgress(value=0, max=21), HTML(value='')))"
      ]
     },
     "metadata": {},
     "output_type": "display_data"
    },
    {
     "data": {
      "application/vnd.jupyter.widget-view+json": {
       "model_id": "",
       "version_major": 2,
       "version_minor": 0
      },
      "text/plain": [
       "HBox(children=(IntProgress(value=0, max=21), HTML(value='')))"
      ]
     },
     "metadata": {},
     "output_type": "display_data"
    },
    {
     "data": {
      "application/vnd.jupyter.widget-view+json": {
       "model_id": "",
       "version_major": 2,
       "version_minor": 0
      },
      "text/plain": [
       "HBox(children=(IntProgress(value=0, max=21), HTML(value='')))"
      ]
     },
     "metadata": {},
     "output_type": "display_data"
    },
    {
     "data": {
      "application/vnd.jupyter.widget-view+json": {
       "model_id": "",
       "version_major": 2,
       "version_minor": 0
      },
      "text/plain": [
       "HBox(children=(IntProgress(value=0, max=21), HTML(value='')))"
      ]
     },
     "metadata": {},
     "output_type": "display_data"
    },
    {
     "data": {
      "application/vnd.jupyter.widget-view+json": {
       "model_id": "",
       "version_major": 2,
       "version_minor": 0
      },
      "text/plain": [
       "HBox(children=(IntProgress(value=0, max=21), HTML(value='')))"
      ]
     },
     "metadata": {},
     "output_type": "display_data"
    },
    {
     "data": {
      "application/vnd.jupyter.widget-view+json": {
       "model_id": "",
       "version_major": 2,
       "version_minor": 0
      },
      "text/plain": [
       "HBox(children=(IntProgress(value=0, max=21), HTML(value='')))"
      ]
     },
     "metadata": {},
     "output_type": "display_data"
    },
    {
     "data": {
      "application/vnd.jupyter.widget-view+json": {
       "model_id": "",
       "version_major": 2,
       "version_minor": 0
      },
      "text/plain": [
       "HBox(children=(IntProgress(value=0, max=21), HTML(value='')))"
      ]
     },
     "metadata": {},
     "output_type": "display_data"
    },
    {
     "data": {
      "application/vnd.jupyter.widget-view+json": {
       "model_id": "",
       "version_major": 2,
       "version_minor": 0
      },
      "text/plain": [
       "HBox(children=(IntProgress(value=0, max=21), HTML(value='')))"
      ]
     },
     "metadata": {},
     "output_type": "display_data"
    },
    {
     "data": {
      "application/vnd.jupyter.widget-view+json": {
       "model_id": "",
       "version_major": 2,
       "version_minor": 0
      },
      "text/plain": [
       "HBox(children=(IntProgress(value=0, max=21), HTML(value='')))"
      ]
     },
     "metadata": {},
     "output_type": "display_data"
    },
    {
     "data": {
      "application/vnd.jupyter.widget-view+json": {
       "model_id": "",
       "version_major": 2,
       "version_minor": 0
      },
      "text/plain": [
       "HBox(children=(IntProgress(value=0, max=21), HTML(value='')))"
      ]
     },
     "metadata": {},
     "output_type": "display_data"
    },
    {
     "name": "stdout",
     "output_type": "stream",
     "text": [
      "\n"
     ]
    }
   ],
   "source": [
    "k_fold = StratifiedKFold(n_splits=5, shuffle=True, random_state=4)\n",
    "train_idx, test_idx = next(k_fold.split(metadata['node_ids'], metadata['app']))\n",
    "test_nodes = [node_id for node_ids in metadata.iloc[test_idx]['node_ids'] \n",
    "              for node_id in node_ids]\n",
    "global_test_labels = [app for app, node_ids in \n",
    "                      zip(metadata.iloc[test_idx]['app'], \n",
    "                          metadata.iloc[test_idx]['node_ids']) \n",
    "                      for _ in node_ids]\n",
    "fscores = []\n",
    "for removed_app in tqdm(metadata['app'].unique()):\n",
    "    train_metadata = metadata.iloc[train_idx]\n",
    "    train_metadata = train_metadata[train_metadata['app'] != removed_app]\n",
    "    train_nodes = [node_id for node_ids in train_metadata['node_ids'] \n",
    "                   for node_id in node_ids]\n",
    "    train_labels = [app for app, node_ids in \n",
    "                    zip(train_metadata['app'], \n",
    "                        train_metadata['node_ids']) \n",
    "                    for _ in node_ids]\n",
    "    test_labels = [app if app != removed_app else 'unknown' \n",
    "                   for app in global_test_labels]\n",
    "    assert removed_app not in train_labels\n",
    "    for threshold in tqdm(np.arange(0, 1.05, 0.05), leave=False):\n",
    "        txm = taxonomist.Taxonomist(BASE_ESTIMATOR, n_jobs=N_JOBS, \n",
    "                                    threshold=threshold)\n",
    "        txm.fit(features.loc[train_nodes], train_labels)\n",
    "        preds = txm.predict(features.loc[test_nodes])\n",
    "        fscores.append({\n",
    "            'removed_app': removed_app,\n",
    "            'threshold': threshold,\n",
    "            'f-score': f1_score(test_labels, preds, average='weighted')\n",
    "        })\n",
    "fscores = pd.DataFrame(fscores)"
   ]
  },
  {
   "cell_type": "code",
   "execution_count": 19,
   "metadata": {},
   "outputs": [
    {
     "data": {
      "image/png": "[encoded data removed]",
      "text/plain": [
       "<Figure size 720x360 with 1 Axes>"
      ]
     },
     "metadata": {},
     "output_type": "display_data"
    }
   ],
   "source": [
    "x_coords = fscores['threshold'].unique()\n",
    "y_coords = []\n",
    "for thres in x_coords:\n",
    "    y_coords.append(fscores[fscores['threshold'] == thres]['f-score'].mean())\n",
    "plt.plot(x_coords, y_coords)\n",
    "plt.ylabel('f-score')\n",
    "plt.xlabel('Confidence Threshold')\n",
    "plt.ylim(0.8, 1)\n",
    "plt.xlim(0, 1)\n",
    "plt.axvline(0.75, linestyle='dashed', c='black')\n",
    "plt.show()"
   ]
  },
  {
   "cell_type": "markdown",
   "metadata": {},
   "source": [
    "## Acknowledgment\n",
    "This work has been partially funded by Sandia National Laboratories. Sandia National Laboratories is a multimission laboratory managed and operated by National Technology and Engineering Solutions of Sandia, LLC., a wholly owned subsidiary of Honeywell International, Inc., for the U.S. Department of Energy’s National Nuclear Security Administration under Contract DENA0003525."
   ]
  }
 ],
 "metadata": {
  "kernelspec": {
   "display_name": "Python 3",
   "language": "python",
   "name": "python3"
  },
  "language_info": {
   "codemirror_mode": {
    "name": "ipython",
    "version": 3
   },
   "file_extension": ".py",
   "mimetype": "text/x-python",
   "name": "python",
   "nbconvert_exporter": "python",
   "pygments_lexer": "ipython3",
   "version": "3.6.5"
  }
 },
 "nbformat": 4,
 "nbformat_minor": 2
}
